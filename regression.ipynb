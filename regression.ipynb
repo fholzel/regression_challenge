{
 "cells": [
  {
   "cell_type": "code",
   "execution_count": null,
   "metadata": {},
   "outputs": [],
   "source": [
    "cd C:/Users/frankh/python/regression_challenge"
   ]
  },
  {
   "cell_type": "code",
   "execution_count": null,
   "metadata": {},
   "outputs": [],
   "source": [
    "pwd"
   ]
  },
  {
   "cell_type": "code",
   "execution_count": null,
   "metadata": {},
   "outputs": [],
   "source": [
    "import pandas            as pd\n",
    "import numpy             as np\n",
    "import matplotlib.pyplot as plt\n",
    "import tensorflow        as tf\n",
    "import os\n",
    "import random\n",
    "import time\n",
    "import datetime\n",
    "\n",
    "from matplotlib                 import pyplot as pl\n",
    "\n",
    "from tensorflow\t                import keras\n",
    "from tensorflow.keras.models    import Sequential\n",
    "from tensorflow.keras.callbacks import EarlyStopping\n",
    "from tensorflow.keras           import layers\n",
    "from tensorflow.keras.layers    import InputLayer\n",
    "from tensorflow.keras.layers    import Dense\n",
    "from tensorflow.keras.layers    import Dropout\n",
    "\n",
    "from sklearn.model_selection     import train_test_split\n",
    "from sklearn.preprocessing       import StandardScaler\n",
    "from sklearn.preprocessing       import Normalizer\n",
    "from sklearn.metrics             import r2_score\n",
    "from sklearn.compose             import ColumnTransformer\n",
    "from tensorflow.keras.optimizers import Adam\n",
    "from tensorflow.keras.callbacks  import EarlyStopping\n",
    "\n",
    "debug = False\n",
    "\n",
    "def reset_seeds():\n",
    "    seed_value = 1234\n",
    "    random.seed(seed_value)\n",
    "    np.random.seed(seed_value) \n",
    "    tf.random.set_seed(seed_value)\n",
    "    tf.compat.v1.set_random_seed(seed_value)\n",
    "    tf.random.set_seed(seed_value)"
   ]
  },
  {
   "cell_type": "code",
   "execution_count": null,
   "metadata": {},
   "outputs": [],
   "source": [
    "unix1 = datetime.datetime.timestamp(datetime.datetime.now())*1000\n",
    "print(unix1)\n",
    "print(tf.config.list_physical_devices('GPU'))\n",
    "print(tf.test.is_built_with_cuda())\n",
    "reset_seeds()\n",
    "unix2 = datetime.datetime.timestamp(datetime.datetime.now())*1000\n",
    "print(unix2)"
   ]
  },
  {
   "cell_type": "code",
   "execution_count": null,
   "metadata": {},
   "outputs": [],
   "source": [
    "dataset = pd.read_csv(\"admissions_data.csv\")\n",
    "print(dataset.describe(include='all'))\n",
    "print(dataset.head())\n",
    "print(dataset.columns)"
   ]
  },
  {
   "cell_type": "code",
   "execution_count": null,
   "metadata": {},
   "outputs": [],
   "source": [
    "features = dataset.iloc[:,1:-1]\n",
    "labels   = dataset.iloc[:,-1]\n",
    "print(features.columns)"
   ]
  },
  {
   "cell_type": "code",
   "execution_count": null,
   "metadata": {},
   "outputs": [],
   "source": [
    "features_train, features_test, labels_train, labels_test = train_test_split(features, labels, test_size=0.2, random_state=1)"
   ]
  },
  {
   "cell_type": "code",
   "execution_count": null,
   "metadata": {},
   "outputs": [],
   "source": [
    "def print_column_values(dataset):\n",
    "    if debug :\n",
    "        print(dataset['GRE Score'].unique())\n",
    "        print(dataset['TOEFL Score'].unique())\n",
    "        print(dataset['University Rating'].unique())\n",
    "        print(dataset['SOP'].unique())\n",
    "        print(dataset['LOR '].unique())\n",
    "        print(dataset['CGPA'].unique())\n",
    "        print(dataset['Research'].unique())"
   ]
  },
  {
   "cell_type": "code",
   "execution_count": null,
   "metadata": {},
   "outputs": [],
   "source": [
    "debug = False\n",
    "print_column_values(features)"
   ]
  },
  {
   "cell_type": "code",
   "execution_count": null,
   "metadata": {},
   "outputs": [],
   "source": [
    "numerical_features = features.select_dtypes(include=['float64', 'int64'])\n",
    "numerical_columns = numerical_features.columns\n",
    "print(numerical_columns)"
   ]
  },
  {
   "cell_type": "code",
   "execution_count": null,
   "metadata": {},
   "outputs": [],
   "source": [
    "ct = ColumnTransformer([('scale',StandardScaler(),  numerical_columns         )], remainder='passthrough')"
   ]
  },
  {
   "cell_type": "code",
   "execution_count": null,
   "metadata": {},
   "outputs": [],
   "source": [
    "debug = False\n",
    "print_column_values(features)"
   ]
  },
  {
   "cell_type": "code",
   "execution_count": null,
   "metadata": {},
   "outputs": [],
   "source": [
    "features_train_scale = ct.fit_transform(features_train)\n",
    "features_test_scale  = ct.transform(features_test)\n",
    "features_train_scale = pd.DataFrame(features_train_scale, columns = features_train.columns)\n",
    "features_test_scale  = pd.DataFrame(features_test_scale, columns = features_test.columns)"
   ]
  },
  {
   "cell_type": "code",
   "execution_count": null,
   "metadata": {},
   "outputs": [],
   "source": [
    "debug = False\n",
    "print_column_values(features_train_scale)"
   ]
  },
  {
   "cell_type": "code",
   "execution_count": null,
   "metadata": {},
   "outputs": [],
   "source": [
    "val_mse_list = []\n",
    "val_mae_list = []\n",
    "lvl_1_list   = [2**I for I in range(2,7)]\n",
    "lvl_2_list   = [2**J for J in range(1,6)]\n",
    "epochs_list  = [10*E for E in range(1,11)]\n",
    "batch_list   = [2**J for J in range(1,5)]\n",
    "print(lvl_1_list)\n",
    "print(lvl_2_list)\n",
    "print(epochs_list)\n",
    "print(batch_list)\n",
    "# MIN:  4 32 90       0.03884091228246689\n",
    "lvl_1_list  = [32]\n",
    "lvl_2_list  = [32]\n",
    "epochs_list = [60]\n",
    "batch_list  = [16]\n",
    "for I in lvl_1_list:\n",
    "    for J in lvl_2_list: \n",
    "        for E in epochs_list:\n",
    "            for B in batch_list:\n",
    "                print('I:J:E:B', I, J, E, B)\n",
    "                unix1 = datetime.datetime.timestamp(datetime.datetime.now())*1000\n",
    "                reset_seeds()\n",
    "                model = Sequential()\n",
    "                num_features = features_train_scale.shape[1]\n",
    "                inputs   = InputLayer(input_shape=(num_features,))\n",
    "                hidden1  = Dense(I, activation='relu')            \n",
    "                dropout1 = Dropout(0.1)\n",
    "                hidden2  = Dense(J, activation='relu')            \n",
    "                dropout2 = Dropout(0.2)\n",
    "                outputs  = Dense(1)\n",
    "                model.add(inputs)\n",
    "                model.add(hidden1)\n",
    "                model.add(dropout1)\n",
    "                model.add(hidden2)        \n",
    "                model.add(dropout2)\n",
    "                model.add(outputs)\n",
    "                opt = Adam(learning_rate=0.01)\n",
    "                model.compile(loss='mse', metrics=['mae'], optimizer=opt)\n",
    "                stop = EarlyStopping(monitor='val_loss', mode='min', verbose=0, patience=50)\n",
    "                history = model.fit(features_train_scale, labels_train, epochs=E, batch_size=B, verbose=0, validation_split=0.2, callbacks=[stop])\n",
    "                val_mse, val_mae = model.evaluate(features_test_scale, labels_test, verbose=0)\n",
    "                unix2 = datetime.datetime.timestamp(datetime.datetime.now())*1000\n",
    "                unixd = unix2 - unix1\n",
    "                print(model.layers)\n",
    "                print(model.summary())\n",
    "                print(val_mse, val_mae)\n",
    "                print('elapsed time:', unixd)\n",
    "                val_mse_list.append([I, J, E, val_mse, unixd])\n",
    "                val_mae_list.append([I, J, E, val_mae, unixd])\n"
   ]
  },
  {
   "cell_type": "code",
   "execution_count": null,
   "metadata": {},
   "outputs": [],
   "source": [
    "minI   = 0\n",
    "minJ   = 0\n",
    "minE   = 0\n",
    "minMAE = 1\n",
    "minT   = 0\n",
    "for I,J,E,MAE,T in val_mae_list:\n",
    "    # print(str(I), str(J), str(E), str(MSE), str(T))\n",
    "    if MAE<minMAE:\n",
    "        minI   = I\n",
    "        minJ   = J\n",
    "        minE   = E\n",
    "        minMAE = MAE\n",
    "        minT   = T\n",
    "print('MIN:', str(minI), str(minJ), str(minE), str(minMAE), str(minT))"
   ]
  },
  {
   "cell_type": "code",
   "execution_count": null,
   "metadata": {},
   "outputs": [],
   "source": [
    "features_predict = pd.DataFrame(model.predict(features_test_scale))\n",
    "features_predict.rename(columns={0:'COL'},inplace=True)\n",
    "print(type(features_predict))\n",
    "print(features_predict.iloc[:,0])\n",
    "print(features_predict.columns)\n",
    "features_predict_list = []\n",
    "for index, row in features_predict.iterrows():\n",
    "    features_predict_list.append(row['COL'])\n",
    "print(features_predict_list[0:10])"
   ]
  },
  {
   "cell_type": "code",
   "execution_count": null,
   "metadata": {},
   "outputs": [],
   "source": [
    "labels_test = pd.DataFrame(labels_test)\n",
    "labels_test.rename(columns={'Chance of Admit ':'COL'},inplace=True)\n",
    "print(type(labels_test))\n",
    "print(labels_test.iloc[:,0])\n",
    "labels_test_list = []\n",
    "for index, row in labels_test.iterrows():\n",
    "    labels_test_list.append(row['COL'])\n",
    "print(labels_test_list[0:10])"
   ]
  },
  {
   "cell_type": "code",
   "execution_count": null,
   "metadata": {},
   "outputs": [],
   "source": [
    "plt.plot(labels_test_list, features_predict_list, \"o\", alpha=0.5)\n",
    "plt.show()"
   ]
  },
  {
   "cell_type": "code",
   "execution_count": null,
   "metadata": {},
   "outputs": [],
   "source": [
    "fig = plt.figure()\n",
    "ax1 = fig.add_subplot(2, 1, 1)\n",
    "ax1.plot(history.history['mae'])\n",
    "ax1.plot(history.history['val_mae'])\n",
    "ax1.set_title('model mae')\n",
    "ax1.set_ylabel('MAE')\n",
    "ax1.set_xlabel('epoch')\n",
    "ax1.legend(['train', 'validation'], loc='upper left')\n",
    "ax2 = fig.add_subplot(2, 1, 2)\n",
    "ax2.plot(history.history['loss'])\n",
    "ax2.plot(history.history['val_loss'])\n",
    "ax2.set_title('model loss')\n",
    "ax2.set_ylabel('loss')\n",
    "ax2.set_xlabel('epoch')\n",
    "ax2.legend(['train', 'validation'], loc='upper left')\n",
    "fig.tight_layout()\n",
    "fig.savefig('plots.png')"
   ]
  },
  {
   "cell_type": "code",
   "execution_count": null,
   "metadata": {},
   "outputs": [],
   "source": [
    "predicted_values = model.predict(features_test_scale) \n",
    "print(r2_score(labels_test_list, features_predict_list)) "
   ]
  }
 ],
 "metadata": {
  "kernelspec": {
   "display_name": "Python 3 (ipykernel)",
   "language": "python",
   "name": "python3"
  },
  "language_info": {
   "codemirror_mode": {
    "name": "ipython",
    "version": 3
   },
   "file_extension": ".py",
   "mimetype": "text/x-python",
   "name": "python",
   "nbconvert_exporter": "python",
   "pygments_lexer": "ipython3",
   "version": "3.9.13"
  }
 },
 "nbformat": 4,
 "nbformat_minor": 2
}
