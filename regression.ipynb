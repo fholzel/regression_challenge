{
 "cells": [
  {
   "cell_type": "code",
   "execution_count": 1,
   "metadata": {},
   "outputs": [
    {
     "name": "stdout",
     "output_type": "stream",
     "text": [
      "C:\\Users\\frankh\\python\\regression-challenge\n"
     ]
    }
   ],
   "source": [
    "cd C:/Users/frankh/python/regression-challenge"
   ]
  },
  {
   "cell_type": "code",
   "execution_count": 2,
   "metadata": {},
   "outputs": [
    {
     "data": {
      "text/plain": [
       "'C:\\\\Users\\\\frankh\\\\python\\\\regression-challenge'"
      ]
     },
     "execution_count": 2,
     "metadata": {},
     "output_type": "execute_result"
    }
   ],
   "source": [
    "pwd"
   ]
  },
  {
   "cell_type": "code",
   "execution_count": 3,
   "metadata": {},
   "outputs": [],
   "source": [
    "import pandas            as pd\n",
    "import numpy             as np\n",
    "import matplotlib.pyplot as plt\n",
    "import tensorflow        as tf\n",
    "import os\n",
    "import random\n",
    "\n",
    "from tensorflow\t                import keras\n",
    "from tensorflow.keras.models    import Sequential\n",
    "from tensorflow.keras.callbacks import EarlyStopping\n",
    "from tensorflow.keras           import layers\n",
    "from tensorflow.keras.layers    import InputLayer\n",
    "\n",
    "from sklearn.model_selection     import train_test_split\n",
    "from sklearn.preprocessing       import StandardScaler\n",
    "from sklearn.preprocessing       import Normalizer\n",
    "from sklearn.metrics             import r2_score\n",
    "from sklearn.compose             import ColumnTransformer\n",
    "from tensorflow.keras.optimizers import Adam\n",
    "from tensorflow.keras.callbacks  import EarlyStopping\n",
    "\n",
    "debug = False\n",
    "\n",
    "def reset_seeds():\n",
    "    seed_value = 1234\n",
    "    random.seed(seed_value)\n",
    "    np.random.seed(seed_value) \n",
    "    tf.random.set_seed(seed_value)\n",
    "    tf.compat.v1.set_random_seed(seed_value)\n",
    "    tf.random.set_seed(seed_value)"
   ]
  },
  {
   "cell_type": "code",
   "execution_count": 4,
   "metadata": {},
   "outputs": [
    {
     "name": "stdout",
     "output_type": "stream",
     "text": [
      "[]\n",
      "False\n"
     ]
    }
   ],
   "source": [
    "print(tf.config.list_physical_devices('GPU'))\n",
    "print(tf.test.is_built_with_cuda())\n",
    "reset_seeds()"
   ]
  },
  {
   "cell_type": "code",
   "execution_count": 5,
   "metadata": {},
   "outputs": [
    {
     "name": "stdout",
     "output_type": "stream",
     "text": [
      "       Serial No.   GRE Score  TOEFL Score  University Rating         SOP  \\\n",
      "count  500.000000  500.000000   500.000000         500.000000  500.000000   \n",
      "mean   250.500000  316.472000   107.192000           3.114000    3.374000   \n",
      "std    144.481833   11.295148     6.081868           1.143512    0.991004   \n",
      "min      1.000000  290.000000    92.000000           1.000000    1.000000   \n",
      "25%    125.750000  308.000000   103.000000           2.000000    2.500000   \n",
      "50%    250.500000  317.000000   107.000000           3.000000    3.500000   \n",
      "75%    375.250000  325.000000   112.000000           4.000000    4.000000   \n",
      "max    500.000000  340.000000   120.000000           5.000000    5.000000   \n",
      "\n",
      "            LOR         CGPA    Research  Chance of Admit   \n",
      "count  500.00000  500.000000  500.000000         500.00000  \n",
      "mean     3.48400    8.576440    0.560000           0.72174  \n",
      "std      0.92545    0.604813    0.496884           0.14114  \n",
      "min      1.00000    6.800000    0.000000           0.34000  \n",
      "25%      3.00000    8.127500    0.000000           0.63000  \n",
      "50%      3.50000    8.560000    1.000000           0.72000  \n",
      "75%      4.00000    9.040000    1.000000           0.82000  \n",
      "max      5.00000    9.920000    1.000000           0.97000  \n",
      "   Serial No.  GRE Score  TOEFL Score  University Rating  SOP  LOR   CGPA  \\\n",
      "0           1        337          118                  4  4.5   4.5  9.65   \n",
      "1           2        324          107                  4  4.0   4.5  8.87   \n",
      "2           3        316          104                  3  3.0   3.5  8.00   \n",
      "3           4        322          110                  3  3.5   2.5  8.67   \n",
      "4           5        314          103                  2  2.0   3.0  8.21   \n",
      "\n",
      "   Research  Chance of Admit   \n",
      "0         1              0.92  \n",
      "1         1              0.76  \n",
      "2         1              0.72  \n",
      "3         1              0.80  \n",
      "4         0              0.65  \n",
      "Index(['Serial No.', 'GRE Score', 'TOEFL Score', 'University Rating', 'SOP',\n",
      "       'LOR ', 'CGPA', 'Research', 'Chance of Admit '],\n",
      "      dtype='object')\n"
     ]
    }
   ],
   "source": [
    "dataset = pd.read_csv(\"admissions_data.csv\")\n",
    "print(dataset.describe(include='all'))\n",
    "print(dataset.head())\n",
    "print(dataset.columns)"
   ]
  },
  {
   "cell_type": "code",
   "execution_count": 6,
   "metadata": {},
   "outputs": [
    {
     "name": "stdout",
     "output_type": "stream",
     "text": [
      "Index(['GRE Score', 'TOEFL Score', 'University Rating', 'SOP', 'LOR ', 'CGPA',\n",
      "       'Research'],\n",
      "      dtype='object')\n"
     ]
    }
   ],
   "source": [
    "features = dataset.iloc[:,1:-1]\n",
    "labels   = dataset.iloc[:,-1]\n",
    "print(features.columns)"
   ]
  },
  {
   "cell_type": "code",
   "execution_count": 7,
   "metadata": {},
   "outputs": [],
   "source": [
    "features_train, features_test, labels_train, labels_test = train_test_split(features, labels, test_size=0.2, random_state=1)"
   ]
  },
  {
   "cell_type": "code",
   "execution_count": 8,
   "metadata": {},
   "outputs": [],
   "source": [
    "def print_column_values(dataset):\n",
    "    if debug :\n",
    "        print(dataset['GRE Score'].unique())\n",
    "        print(dataset['TOEFL Score'].unique())\n",
    "        print(dataset['University Rating'].unique())\n",
    "        print(dataset['SOP'].unique())\n",
    "        print(dataset['LOR '].unique())\n",
    "        print(dataset['CGPA'].unique())\n",
    "        print(dataset['Research'].unique())"
   ]
  },
  {
   "cell_type": "code",
   "execution_count": 9,
   "metadata": {},
   "outputs": [],
   "source": [
    "debug = False\n",
    "print_column_values(features)"
   ]
  },
  {
   "cell_type": "code",
   "execution_count": 10,
   "metadata": {},
   "outputs": [
    {
     "name": "stdout",
     "output_type": "stream",
     "text": [
      "Index(['GRE Score', 'TOEFL Score', 'University Rating', 'SOP', 'LOR ', 'CGPA',\n",
      "       'Research'],\n",
      "      dtype='object')\n"
     ]
    }
   ],
   "source": [
    "numerical_features = features.select_dtypes(include=['float64', 'int64'])\n",
    "numerical_columns = numerical_features.columns\n",
    "print(numerical_columns)"
   ]
  },
  {
   "cell_type": "code",
   "execution_count": 11,
   "metadata": {},
   "outputs": [],
   "source": [
    "ct = ColumnTransformer([('scale',StandardScaler(),  numerical_columns         )], remainder='passthrough')"
   ]
  },
  {
   "cell_type": "code",
   "execution_count": 12,
   "metadata": {},
   "outputs": [],
   "source": [
    "debug = False\n",
    "print_column_values(features)"
   ]
  },
  {
   "cell_type": "code",
   "execution_count": 13,
   "metadata": {},
   "outputs": [],
   "source": [
    "features_train_scale = ct.fit_transform(features_train)\n",
    "features_test_scale  = ct.transform(features_test)\n",
    "features_train_scale = pd.DataFrame(features_train_scale, columns = features_train.columns)\n",
    "features_test_scale  = pd.DataFrame(features_test_scale, columns = features_test.columns)"
   ]
  },
  {
   "cell_type": "code",
   "execution_count": 14,
   "metadata": {},
   "outputs": [],
   "source": [
    "debug = False\n",
    "print_column_values(features_train_scale)"
   ]
  },
  {
   "cell_type": "code",
   "execution_count": 15,
   "metadata": {},
   "outputs": [
    {
     "name": "stdout",
     "output_type": "stream",
     "text": [
      "[4, 8, 16, 32, 64]\n",
      "[2, 4, 8, 16, 32]\n",
      "[10, 20, 30, 40, 50, 60, 70, 80, 90, 100]\n",
      "4/4 [==============================] - 0s 2ms/step - loss: 0.0033 - mae: 0.0388\n",
      "[<keras.layers.core.dense.Dense object at 0x000001BCD8152108>, <keras.layers.core.dense.Dense object at 0x000001BCD81AAFC8>, <keras.layers.core.dense.Dense object at 0x000001BCD81CB848>]\n",
      "Model: \"sequential\"\n",
      "_________________________________________________________________\n",
      " Layer (type)                Output Shape              Param #   \n",
      "=================================================================\n",
      " dense (Dense)               (None, 4)                 32        \n",
      "                                                                 \n",
      " dense_1 (Dense)             (None, 32)                160       \n",
      "                                                                 \n",
      " dense_2 (Dense)             (None, 1)                 33        \n",
      "                                                                 \n",
      "=================================================================\n",
      "Total params: 225\n",
      "Trainable params: 225\n",
      "Non-trainable params: 0\n",
      "_________________________________________________________________\n",
      "None\n",
      "0.0033310332801193 0.03884091228246689\n"
     ]
    }
   ],
   "source": [
    "val_mse_list = []\n",
    "val_mae_list = []\n",
    "lvl_1_list   = [2**I for I in range(2,7)]\n",
    "lvl_2_list   = [2**J for J in range(1,6)]\n",
    "epochs_list  = [10*E for E in range(1,11)]\n",
    "print(lvl_1_list)\n",
    "print(lvl_2_list)\n",
    "print(epochs_list)\n",
    "# MIN: 16 2 20 0.0032181069254875183\n",
    "# MIN: 4 32 90 0.03884091228246689\n",
    "# MIN: 4 32 90 0.03884091228246689\n",
    "# MIN: 4 32 90 0.03884091228246689\n",
    "lvl_1_list  = [4]\n",
    "lvl_2_list  = [32]\n",
    "epochs_list = [90]\n",
    "for I in lvl_1_list:\n",
    "    for J in lvl_2_list: \n",
    "        for E in epochs_list:\n",
    "            reset_seeds()\n",
    "            model = Sequential()\n",
    "            num_features = features_train_scale.shape[1]\n",
    "            inputs = InputLayer(input_shape=(num_features,))\n",
    "            model.add(inputs)\n",
    "            model.add(layers.Dense(I, activation='relu'))\n",
    "            model.add(layers.Dense(J, activation='relu'))        \n",
    "            model.add(layers.Dense(1))\n",
    "            opt = Adam(learning_rate=0.01)\n",
    "            model.compile(loss='mse', metrics=['mae'], optimizer=opt)\n",
    "            stop = EarlyStopping(monitor='val_loss', mode='min', verbose=1, patience=50)\n",
    "            model.fit(features_train_scale, labels_train, epochs=E, batch_size=3, verbose=0, validation_split=0.2, callbacks=[stop])\n",
    "            val_mse, val_mae = model.evaluate(features_test_scale, labels_test, verbose=1)\n",
    "            print(model.layers)\n",
    "            print(model.summary())\n",
    "            print(val_mse, val_mae)\n",
    "            val_mse_list.append([I, J, E, val_mse])\n",
    "            val_mae_list.append([I, J, E, val_mae])\n"
   ]
  },
  {
   "cell_type": "code",
   "execution_count": 16,
   "metadata": {},
   "outputs": [
    {
     "name": "stdout",
     "output_type": "stream",
     "text": [
      "MIN: 4 32 90 0.03884091228246689\n"
     ]
    }
   ],
   "source": [
    "minI = 0\n",
    "minJ = 0\n",
    "minE = 0\n",
    "minMAE = 1\n",
    "for I,J,E,MAE in val_mae_list:\n",
    "    # print(str(I), str(J), str(E), str(MSE))\n",
    "    if MAE<minMAE:\n",
    "        minI = I\n",
    "        minJ = J\n",
    "        minE = E\n",
    "        minMAE = MAE\n",
    "print('MIN:', str(minI), str(minJ), str(minE), str(minMAE))"
   ]
  },
  {
   "cell_type": "code",
   "execution_count": 54,
   "metadata": {},
   "outputs": [
    {
     "name": "stdout",
     "output_type": "stream",
     "text": [
      "4/4 [==============================] - 0s 2ms/step\n",
      "<class 'pandas.core.frame.DataFrame'>\n",
      "0     0.661321\n",
      "1     0.703204\n",
      "2     0.954549\n",
      "3     0.713874\n",
      "4     0.817477\n",
      "        ...   \n",
      "95    0.833468\n",
      "96    0.839972\n",
      "97    0.507549\n",
      "98    0.727970\n",
      "99    0.588899\n",
      "Name: 0, Length: 100, dtype: float32\n"
     ]
    }
   ],
   "source": [
    "features_predict = pd.DataFrame(model.predict(features_test_scale))\n",
    "print(type(features_predict))\n",
    "print(features_predict.iloc[:,0])"
   ]
  },
  {
   "cell_type": "code",
   "execution_count": 55,
   "metadata": {},
   "outputs": [
    {
     "name": "stdout",
     "output_type": "stream",
     "text": [
      "<class 'pandas.core.frame.DataFrame'>\n",
      "304    0.62\n",
      "340    0.75\n",
      "47     0.89\n",
      "67     0.57\n",
      "479    0.79\n",
      "       ... \n",
      "11     0.84\n",
      "192    0.86\n",
      "92     0.34\n",
      "221    0.75\n",
      "110    0.61\n",
      "Name: Chance of Admit , Length: 100, dtype: float64\n"
     ]
    }
   ],
   "source": [
    "labels_test = pd.DataFrame(labels_test)\n",
    "print(type(labels_test))\n",
    "print(labels_test.iloc[:,0])"
   ]
  },
  {
   "cell_type": "code",
   "execution_count": 61,
   "metadata": {},
   "outputs": [],
   "source": [
    "# pd.merge(features_predict.rename(columns={'0':'COL'}), labels_test.rename(columns={'Chance of Admit ':'COL'}))"
   ]
  },
  {
   "cell_type": "code",
   "execution_count": null,
   "metadata": {},
   "outputs": [],
   "source": []
  },
  {
   "cell_type": "code",
   "execution_count": null,
   "metadata": {},
   "outputs": [],
   "source": []
  }
 ],
 "metadata": {
  "kernelspec": {
   "display_name": "Python 3",
   "language": "python",
   "name": "python3"
  },
  "language_info": {
   "codemirror_mode": {
    "name": "ipython",
    "version": 3
   },
   "file_extension": ".py",
   "mimetype": "text/x-python",
   "name": "python",
   "nbconvert_exporter": "python",
   "pygments_lexer": "ipython3",
   "version": "3.7.4"
  }
 },
 "nbformat": 4,
 "nbformat_minor": 2
}
